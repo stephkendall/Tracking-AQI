{
 "cells": [
  {
   "cell_type": "markdown",
   "metadata": {},
   "source": [
    "### Imports"
   ]
  },
  {
   "cell_type": "code",
   "execution_count": 4,
   "metadata": {},
   "outputs": [],
   "source": [
    "import pandas as pd\n",
    "import requests\n",
    "\n",
    "from pandas.io.json import json_normalize\n",
    "\n",
    "pd.set_option('display.max_columns', None)"
   ]
  },
  {
   "cell_type": "markdown",
   "metadata": {},
   "source": [
    "## API Calls"
   ]
  },
  {
   "cell_type": "code",
   "execution_count": 2,
   "metadata": {
    "code_folding": [
     0
    ]
   },
   "outputs": [
    {
     "data": {
      "text/plain": [
       "200"
      ]
     },
     "execution_count": 2,
     "metadata": {},
     "output_type": "execute_result"
    }
   ],
   "source": [
    "# API call to review parameters\n",
    "param = requests.get('https://aqs.epa.gov/data/api/list/parametersByClass?email=skbourdeau930@gmail.com&key=dunwolf52&pc=CRITERIA')\n",
    "param.status_code"
   ]
  },
  {
   "cell_type": "code",
   "execution_count": 5,
   "metadata": {
    "code_folding": [
     0
    ]
   },
   "outputs": [
    {
     "data": {
      "text/html": [
       "<div>\n",
       "<style scoped>\n",
       "    .dataframe tbody tr th:only-of-type {\n",
       "        vertical-align: middle;\n",
       "    }\n",
       "\n",
       "    .dataframe tbody tr th {\n",
       "        vertical-align: top;\n",
       "    }\n",
       "\n",
       "    .dataframe thead th {\n",
       "        text-align: right;\n",
       "    }\n",
       "</style>\n",
       "<table border=\"1\" class=\"dataframe\">\n",
       "  <thead>\n",
       "    <tr style=\"text-align: right;\">\n",
       "      <th></th>\n",
       "      <th>code</th>\n",
       "      <th>value_represented</th>\n",
       "    </tr>\n",
       "  </thead>\n",
       "  <tbody>\n",
       "    <tr>\n",
       "      <th>0</th>\n",
       "      <td>14129</td>\n",
       "      <td>Lead (TSP) LC</td>\n",
       "    </tr>\n",
       "    <tr>\n",
       "      <th>1</th>\n",
       "      <td>42101</td>\n",
       "      <td>Carbon monoxide</td>\n",
       "    </tr>\n",
       "    <tr>\n",
       "      <th>2</th>\n",
       "      <td>42401</td>\n",
       "      <td>Sulfur dioxide</td>\n",
       "    </tr>\n",
       "    <tr>\n",
       "      <th>3</th>\n",
       "      <td>42602</td>\n",
       "      <td>Nitrogen dioxide (NO2)</td>\n",
       "    </tr>\n",
       "    <tr>\n",
       "      <th>4</th>\n",
       "      <td>44201</td>\n",
       "      <td>Ozone</td>\n",
       "    </tr>\n",
       "    <tr>\n",
       "      <th>5</th>\n",
       "      <td>81102</td>\n",
       "      <td>PM10 Total 0-10um STP</td>\n",
       "    </tr>\n",
       "    <tr>\n",
       "      <th>6</th>\n",
       "      <td>85129</td>\n",
       "      <td>Lead PM10 LC FRM/FEM</td>\n",
       "    </tr>\n",
       "    <tr>\n",
       "      <th>7</th>\n",
       "      <td>88101</td>\n",
       "      <td>PM2.5 - Local Conditions</td>\n",
       "    </tr>\n",
       "  </tbody>\n",
       "</table>\n",
       "</div>"
      ],
      "text/plain": [
       "    code         value_represented\n",
       "0  14129             Lead (TSP) LC\n",
       "1  42101           Carbon monoxide\n",
       "2  42401            Sulfur dioxide\n",
       "3  42602    Nitrogen dioxide (NO2)\n",
       "4  44201                     Ozone\n",
       "5  81102     PM10 Total 0-10um STP\n",
       "6  85129      Lead PM10 LC FRM/FEM\n",
       "7  88101  PM2.5 - Local Conditions"
      ]
     },
     "execution_count": 5,
     "metadata": {},
     "output_type": "execute_result"
    }
   ],
   "source": [
    "# create DF\n",
    "params = param.json()\n",
    "parameters = json_normalize(params['Data']) \n",
    "parameters"
   ]
  },
  {
   "cell_type": "code",
   "execution_count": 6,
   "metadata": {
    "code_folding": [
     0
    ]
   },
   "outputs": [
    {
     "data": {
      "text/plain": [
       "200"
      ]
     },
     "execution_count": 6,
     "metadata": {},
     "output_type": "execute_result"
    }
   ],
   "source": [
    "# make API call for NYS Daily Data and check response code\n",
    "response = requests.get(\"https://aqs.epa.gov/data/api/dailyData/byState?email=skbourdeau930@gmail.com&key=dunwolf52&param=14129,42101,42401,42602,44201,81102,85129,88101&bdate=20200101&edate=20200401&state=36\")\n",
    "response.status_code"
   ]
  },
  {
   "cell_type": "code",
   "execution_count": 7,
   "metadata": {
    "code_folding": [
     0
    ]
   },
   "outputs": [
    {
     "data": {
      "text/plain": [
       "dict_keys(['Header', 'Data'])"
      ]
     },
     "execution_count": 7,
     "metadata": {},
     "output_type": "execute_result"
    }
   ],
   "source": [
    "# save response as json\n",
    "data = response.json()\n",
    "data.keys()"
   ]
  },
  {
   "cell_type": "code",
   "execution_count": 8,
   "metadata": {
    "code_folding": [
     0
    ],
    "scrolled": true
   },
   "outputs": [
    {
     "data": {
      "text/html": [
       "<div>\n",
       "<style scoped>\n",
       "    .dataframe tbody tr th:only-of-type {\n",
       "        vertical-align: middle;\n",
       "    }\n",
       "\n",
       "    .dataframe tbody tr th {\n",
       "        vertical-align: top;\n",
       "    }\n",
       "\n",
       "    .dataframe thead th {\n",
       "        text-align: right;\n",
       "    }\n",
       "</style>\n",
       "<table border=\"1\" class=\"dataframe\">\n",
       "  <thead>\n",
       "    <tr style=\"text-align: right;\">\n",
       "      <th></th>\n",
       "      <th>aqi</th>\n",
       "      <th>arithmetic_mean</th>\n",
       "      <th>cbsa</th>\n",
       "      <th>cbsa_code</th>\n",
       "      <th>city</th>\n",
       "      <th>county</th>\n",
       "      <th>county_code</th>\n",
       "      <th>date_local</th>\n",
       "      <th>date_of_last_change</th>\n",
       "      <th>datum</th>\n",
       "      <th>event_type</th>\n",
       "      <th>first_max_hour</th>\n",
       "      <th>first_max_value</th>\n",
       "      <th>latitude</th>\n",
       "      <th>local_site_name</th>\n",
       "      <th>longitude</th>\n",
       "      <th>method</th>\n",
       "      <th>method_code</th>\n",
       "      <th>observation_count</th>\n",
       "      <th>observation_percent</th>\n",
       "      <th>parameter</th>\n",
       "      <th>parameter_code</th>\n",
       "      <th>poc</th>\n",
       "      <th>pollutant_standard</th>\n",
       "      <th>sample_duration</th>\n",
       "      <th>site_address</th>\n",
       "      <th>site_number</th>\n",
       "      <th>state</th>\n",
       "      <th>state_code</th>\n",
       "      <th>units_of_measure</th>\n",
       "      <th>validity_indicator</th>\n",
       "    </tr>\n",
       "  </thead>\n",
       "  <tbody>\n",
       "    <tr>\n",
       "      <th>0</th>\n",
       "      <td>NaN</td>\n",
       "      <td>0.300000</td>\n",
       "      <td>Rochester, NY</td>\n",
       "      <td>40380</td>\n",
       "      <td>Rochester</td>\n",
       "      <td>Monroe</td>\n",
       "      <td>055</td>\n",
       "      <td>2020-02-22</td>\n",
       "      <td>2020-04-04</td>\n",
       "      <td>WGS84</td>\n",
       "      <td>None</td>\n",
       "      <td>23</td>\n",
       "      <td>0.3</td>\n",
       "      <td>43.14618</td>\n",
       "      <td>ROCHESTER 2</td>\n",
       "      <td>-77.54817</td>\n",
       "      <td>INSTRUMENTAL - Pulsed Fluorescent 43C-TLE/43i-TLE</td>\n",
       "      <td>560</td>\n",
       "      <td>1</td>\n",
       "      <td>100.0</td>\n",
       "      <td>Sulfur dioxide</td>\n",
       "      <td>42401</td>\n",
       "      <td>3</td>\n",
       "      <td>SO2 24-hour 1971</td>\n",
       "      <td>24-HR BLK AVG</td>\n",
       "      <td>2 YARMOUTH ROAD, RG&amp;E Substation</td>\n",
       "      <td>1007</td>\n",
       "      <td>New York</td>\n",
       "      <td>36</td>\n",
       "      <td>Parts per billion</td>\n",
       "      <td>Y</td>\n",
       "    </tr>\n",
       "    <tr>\n",
       "      <th>1</th>\n",
       "      <td>NaN</td>\n",
       "      <td>0.325000</td>\n",
       "      <td>Rochester, NY</td>\n",
       "      <td>40380</td>\n",
       "      <td>Rochester</td>\n",
       "      <td>Monroe</td>\n",
       "      <td>055</td>\n",
       "      <td>2020-02-29</td>\n",
       "      <td>2020-04-04</td>\n",
       "      <td>WGS84</td>\n",
       "      <td>None</td>\n",
       "      <td>14</td>\n",
       "      <td>0.6</td>\n",
       "      <td>43.14618</td>\n",
       "      <td>ROCHESTER 2</td>\n",
       "      <td>-77.54817</td>\n",
       "      <td>INSTRUMENTAL - Pulsed Fluorescent 43C-TLE/43i-TLE</td>\n",
       "      <td>560</td>\n",
       "      <td>8</td>\n",
       "      <td>100.0</td>\n",
       "      <td>Sulfur dioxide</td>\n",
       "      <td>42401</td>\n",
       "      <td>3</td>\n",
       "      <td>SO2 3-hour 1971</td>\n",
       "      <td>3-HR BLK AVG</td>\n",
       "      <td>2 YARMOUTH ROAD, RG&amp;E Substation</td>\n",
       "      <td>1007</td>\n",
       "      <td>New York</td>\n",
       "      <td>36</td>\n",
       "      <td>Parts per billion</td>\n",
       "      <td>Y</td>\n",
       "    </tr>\n",
       "    <tr>\n",
       "      <th>2</th>\n",
       "      <td>NaN</td>\n",
       "      <td>0.400000</td>\n",
       "      <td>Rochester, NY</td>\n",
       "      <td>40380</td>\n",
       "      <td>Rochester</td>\n",
       "      <td>Monroe</td>\n",
       "      <td>055</td>\n",
       "      <td>2020-02-29</td>\n",
       "      <td>2020-04-04</td>\n",
       "      <td>WGS84</td>\n",
       "      <td>None</td>\n",
       "      <td>23</td>\n",
       "      <td>0.4</td>\n",
       "      <td>43.14618</td>\n",
       "      <td>ROCHESTER 2</td>\n",
       "      <td>-77.54817</td>\n",
       "      <td>INSTRUMENTAL - Pulsed Fluorescent 43C-TLE/43i-TLE</td>\n",
       "      <td>560</td>\n",
       "      <td>1</td>\n",
       "      <td>100.0</td>\n",
       "      <td>Sulfur dioxide</td>\n",
       "      <td>42401</td>\n",
       "      <td>3</td>\n",
       "      <td>SO2 24-hour 1971</td>\n",
       "      <td>24-HR BLK AVG</td>\n",
       "      <td>2 YARMOUTH ROAD, RG&amp;E Substation</td>\n",
       "      <td>1007</td>\n",
       "      <td>New York</td>\n",
       "      <td>36</td>\n",
       "      <td>Parts per billion</td>\n",
       "      <td>Y</td>\n",
       "    </tr>\n",
       "    <tr>\n",
       "      <th>3</th>\n",
       "      <td>0.0</td>\n",
       "      <td>0.358333</td>\n",
       "      <td>Rochester, NY</td>\n",
       "      <td>40380</td>\n",
       "      <td>Rochester</td>\n",
       "      <td>Monroe</td>\n",
       "      <td>055</td>\n",
       "      <td>2020-02-29</td>\n",
       "      <td>2020-04-04</td>\n",
       "      <td>WGS84</td>\n",
       "      <td>None</td>\n",
       "      <td>16</td>\n",
       "      <td>0.9</td>\n",
       "      <td>43.14618</td>\n",
       "      <td>ROCHESTER 2</td>\n",
       "      <td>-77.54817</td>\n",
       "      <td>INSTRUMENTAL - Pulsed Fluorescent 43C-TLE/43i-TLE</td>\n",
       "      <td>560</td>\n",
       "      <td>24</td>\n",
       "      <td>100.0</td>\n",
       "      <td>Sulfur dioxide</td>\n",
       "      <td>42401</td>\n",
       "      <td>3</td>\n",
       "      <td>SO2 1-hour 2010</td>\n",
       "      <td>1 HOUR</td>\n",
       "      <td>2 YARMOUTH ROAD, RG&amp;E Substation</td>\n",
       "      <td>1007</td>\n",
       "      <td>New York</td>\n",
       "      <td>36</td>\n",
       "      <td>Parts per billion</td>\n",
       "      <td>Y</td>\n",
       "    </tr>\n",
       "    <tr>\n",
       "      <th>4</th>\n",
       "      <td>0.0</td>\n",
       "      <td>0.358333</td>\n",
       "      <td>Rochester, NY</td>\n",
       "      <td>40380</td>\n",
       "      <td>Rochester</td>\n",
       "      <td>Monroe</td>\n",
       "      <td>055</td>\n",
       "      <td>2020-02-29</td>\n",
       "      <td>2020-04-04</td>\n",
       "      <td>WGS84</td>\n",
       "      <td>None</td>\n",
       "      <td>16</td>\n",
       "      <td>0.9</td>\n",
       "      <td>43.14618</td>\n",
       "      <td>ROCHESTER 2</td>\n",
       "      <td>-77.54817</td>\n",
       "      <td>INSTRUMENTAL - Pulsed Fluorescent 43C-TLE/43i-TLE</td>\n",
       "      <td>560</td>\n",
       "      <td>24</td>\n",
       "      <td>100.0</td>\n",
       "      <td>Sulfur dioxide</td>\n",
       "      <td>42401</td>\n",
       "      <td>3</td>\n",
       "      <td>SO2 Annual 1971</td>\n",
       "      <td>1 HOUR</td>\n",
       "      <td>2 YARMOUTH ROAD, RG&amp;E Substation</td>\n",
       "      <td>1007</td>\n",
       "      <td>New York</td>\n",
       "      <td>36</td>\n",
       "      <td>Parts per billion</td>\n",
       "      <td>Y</td>\n",
       "    </tr>\n",
       "  </tbody>\n",
       "</table>\n",
       "</div>"
      ],
      "text/plain": [
       "   aqi  arithmetic_mean           cbsa cbsa_code       city  county  \\\n",
       "0  NaN         0.300000  Rochester, NY     40380  Rochester  Monroe   \n",
       "1  NaN         0.325000  Rochester, NY     40380  Rochester  Monroe   \n",
       "2  NaN         0.400000  Rochester, NY     40380  Rochester  Monroe   \n",
       "3  0.0         0.358333  Rochester, NY     40380  Rochester  Monroe   \n",
       "4  0.0         0.358333  Rochester, NY     40380  Rochester  Monroe   \n",
       "\n",
       "  county_code  date_local date_of_last_change  datum event_type  \\\n",
       "0         055  2020-02-22          2020-04-04  WGS84       None   \n",
       "1         055  2020-02-29          2020-04-04  WGS84       None   \n",
       "2         055  2020-02-29          2020-04-04  WGS84       None   \n",
       "3         055  2020-02-29          2020-04-04  WGS84       None   \n",
       "4         055  2020-02-29          2020-04-04  WGS84       None   \n",
       "\n",
       "   first_max_hour  first_max_value  latitude local_site_name  longitude  \\\n",
       "0              23              0.3  43.14618     ROCHESTER 2  -77.54817   \n",
       "1              14              0.6  43.14618     ROCHESTER 2  -77.54817   \n",
       "2              23              0.4  43.14618     ROCHESTER 2  -77.54817   \n",
       "3              16              0.9  43.14618     ROCHESTER 2  -77.54817   \n",
       "4              16              0.9  43.14618     ROCHESTER 2  -77.54817   \n",
       "\n",
       "                                              method method_code  \\\n",
       "0  INSTRUMENTAL - Pulsed Fluorescent 43C-TLE/43i-TLE         560   \n",
       "1  INSTRUMENTAL - Pulsed Fluorescent 43C-TLE/43i-TLE         560   \n",
       "2  INSTRUMENTAL - Pulsed Fluorescent 43C-TLE/43i-TLE         560   \n",
       "3  INSTRUMENTAL - Pulsed Fluorescent 43C-TLE/43i-TLE         560   \n",
       "4  INSTRUMENTAL - Pulsed Fluorescent 43C-TLE/43i-TLE         560   \n",
       "\n",
       "   observation_count  observation_percent       parameter parameter_code  poc  \\\n",
       "0                  1                100.0  Sulfur dioxide          42401    3   \n",
       "1                  8                100.0  Sulfur dioxide          42401    3   \n",
       "2                  1                100.0  Sulfur dioxide          42401    3   \n",
       "3                 24                100.0  Sulfur dioxide          42401    3   \n",
       "4                 24                100.0  Sulfur dioxide          42401    3   \n",
       "\n",
       "  pollutant_standard sample_duration                      site_address  \\\n",
       "0   SO2 24-hour 1971   24-HR BLK AVG  2 YARMOUTH ROAD, RG&E Substation   \n",
       "1    SO2 3-hour 1971    3-HR BLK AVG  2 YARMOUTH ROAD, RG&E Substation   \n",
       "2   SO2 24-hour 1971   24-HR BLK AVG  2 YARMOUTH ROAD, RG&E Substation   \n",
       "3    SO2 1-hour 2010          1 HOUR  2 YARMOUTH ROAD, RG&E Substation   \n",
       "4    SO2 Annual 1971          1 HOUR  2 YARMOUTH ROAD, RG&E Substation   \n",
       "\n",
       "  site_number     state state_code   units_of_measure validity_indicator  \n",
       "0        1007  New York         36  Parts per billion                  Y  \n",
       "1        1007  New York         36  Parts per billion                  Y  \n",
       "2        1007  New York         36  Parts per billion                  Y  \n",
       "3        1007  New York         36  Parts per billion                  Y  \n",
       "4        1007  New York         36  Parts per billion                  Y  "
      ]
     },
     "execution_count": 8,
     "metadata": {},
     "output_type": "execute_result"
    }
   ],
   "source": [
    "# turn data from json into DataFrame and view\n",
    "df = json_normalize(data['Data']) \n",
    "df.head()"
   ]
  },
  {
   "cell_type": "code",
   "execution_count": 9,
   "metadata": {
    "code_folding": [
     0
    ],
    "collapsed": true
   },
   "outputs": [
    {
     "name": "stdout",
     "output_type": "stream",
     "text": [
      "<class 'pandas.core.frame.DataFrame'>\n",
      "RangeIndex: 11809 entries, 0 to 11808\n",
      "Data columns (total 31 columns):\n",
      "aqi                    7566 non-null float64\n",
      "arithmetic_mean        11809 non-null float64\n",
      "cbsa                   10919 non-null object\n",
      "cbsa_code              10919 non-null object\n",
      "city                   11809 non-null object\n",
      "county                 11809 non-null object\n",
      "county_code            11809 non-null object\n",
      "date_local             11809 non-null object\n",
      "date_of_last_change    11809 non-null object\n",
      "datum                  11809 non-null object\n",
      "event_type             11809 non-null object\n",
      "first_max_hour         11809 non-null int64\n",
      "first_max_value        11809 non-null float64\n",
      "latitude               11809 non-null float64\n",
      "local_site_name        11809 non-null object\n",
      "longitude              11809 non-null float64\n",
      "method                 11809 non-null object\n",
      "method_code            11809 non-null object\n",
      "observation_count      11809 non-null int64\n",
      "observation_percent    11809 non-null float64\n",
      "parameter              11809 non-null object\n",
      "parameter_code         11809 non-null object\n",
      "poc                    11809 non-null int64\n",
      "pollutant_standard     10937 non-null object\n",
      "sample_duration        11809 non-null object\n",
      "site_address           11809 non-null object\n",
      "site_number            11809 non-null object\n",
      "state                  11809 non-null object\n",
      "state_code             11809 non-null object\n",
      "units_of_measure       11809 non-null object\n",
      "validity_indicator     11809 non-null object\n",
      "dtypes: float64(6), int64(3), object(22)\n",
      "memory usage: 2.8+ MB\n"
     ]
    }
   ],
   "source": [
    "# inspect dataframe\n",
    "df.info()"
   ]
  },
  {
   "cell_type": "code",
   "execution_count": null,
   "metadata": {},
   "outputs": [],
   "source": []
  }
 ],
 "metadata": {
  "kernelspec": {
   "display_name": "Python 3",
   "language": "python",
   "name": "python3"
  },
  "language_info": {
   "codemirror_mode": {
    "name": "ipython",
    "version": 3
   },
   "file_extension": ".py",
   "mimetype": "text/x-python",
   "name": "python",
   "nbconvert_exporter": "python",
   "pygments_lexer": "ipython3",
   "version": "3.7.3"
  },
  "toc": {
   "base_numbering": 1,
   "nav_menu": {},
   "number_sections": true,
   "sideBar": true,
   "skip_h1_title": false,
   "title_cell": "Table of Contents",
   "title_sidebar": "Contents",
   "toc_cell": false,
   "toc_position": {},
   "toc_section_display": true,
   "toc_window_display": false
  }
 },
 "nbformat": 4,
 "nbformat_minor": 2
}
